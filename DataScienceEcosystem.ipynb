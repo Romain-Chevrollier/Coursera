{
 "cells": [
  {
   "cell_type": "markdown",
   "id": "89af54f0-1c95-41c0-bb6b-eade3804027d",
   "metadata": {},
   "source": [
    "# Data Science Tools and Ecosystem\n",
    "In this notebook, Data Science Tools and Ecosystem are summarized."
   ]
  },
  {
   "cell_type": "markdown",
   "id": "f90f2857-4140-4dcc-a42f-38cdcf29f6e0",
   "metadata": {},
   "source": [
    "**Objectives:**\n",
    "* Some of the popular languages that Data Scientists use\n",
    "* Some of the commonly used libraries used by Data Scientists\n",
    "* Few examples of evaluating arithmetic expressions in Python"
   ]
  },
  {
   "cell_type": "markdown",
   "id": "dc689d07-eb36-49b1-b9da-935c36d82aef",
   "metadata": {},
   "source": [
    "Some of the popular languages that Data Scientists use are:\n",
    "1. Python\n",
    "1. R\n",
    "1. SQL"
   ]
  },
  {
   "cell_type": "markdown",
   "id": "49a65a41-c79a-4979-a20c-2ddf2ff3906e",
   "metadata": {},
   "source": [
    "Some of the commonly used libraries used by Data Scientists include:\n",
    "1. Pandas\n",
    "1. Scikit-learn\n",
    "1. Matplotlib"
   ]
  },
  {
   "cell_type": "markdown",
   "id": "2fe64d87-53b7-46ae-bda8-6ccfe01793d5",
   "metadata": {},
   "source": [
    "|Data Science Tools|\n",
    "| --- |\n",
    "|MySQL|\n",
    "|ModelDB|\n",
    "|GitHub|"
   ]
  },
  {
   "cell_type": "markdown",
   "id": "59e01da4-c047-4d80-970a-4714e714101c",
   "metadata": {},
   "source": [
    "### Below are a few examples of evaluating arithmetic expressions in Python"
   ]
  },
  {
   "cell_type": "code",
   "execution_count": 2,
   "id": "3e19de77-215c-48cc-a959-36ff9f3f3662",
   "metadata": {},
   "outputs": [
    {
     "data": {
      "text/plain": [
       "17"
      ]
     },
     "execution_count": 2,
     "metadata": {},
     "output_type": "execute_result"
    }
   ],
   "source": [
    "#This a simple arithmetic expression to mutiply then add integers\n",
    "(3*4)+5"
   ]
  },
  {
   "cell_type": "code",
   "execution_count": 3,
   "id": "bd94ffe5-aeac-46da-99e9-5361964fe0ca",
   "metadata": {},
   "outputs": [
    {
     "data": {
      "text/plain": [
       "3.3333333333333335"
      ]
     },
     "execution_count": 3,
     "metadata": {},
     "output_type": "execute_result"
    }
   ],
   "source": [
    "#This will convert 200 minutes to hours by diving by 60\n",
    "200/60"
   ]
  },
  {
   "cell_type": "markdown",
   "id": "4c2343d5-c37f-409d-8401-39816335c904",
   "metadata": {},
   "source": [
    "## Author\n",
    "Romain\n"
   ]
  },
  {
   "cell_type": "code",
   "execution_count": null,
   "id": "20ea05d4-8a2e-4b1b-a5f3-4aaaae46f999",
   "metadata": {},
   "outputs": [],
   "source": []
  }
 ],
 "metadata": {
  "kernelspec": {
   "display_name": "Python 3 (ipykernel)",
   "language": "python",
   "name": "python3"
  },
  "language_info": {
   "codemirror_mode": {
    "name": "ipython",
    "version": 3
   },
   "file_extension": ".py",
   "mimetype": "text/x-python",
   "name": "python",
   "nbconvert_exporter": "python",
   "pygments_lexer": "ipython3",
   "version": "3.10.9"
  }
 },
 "nbformat": 4,
 "nbformat_minor": 5
}
